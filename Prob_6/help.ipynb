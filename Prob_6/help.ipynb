{
 "cells": [
  {
   "cell_type": "code",
   "execution_count": 25,
   "metadata": {},
   "outputs": [],
   "source": [
    "def isFloat(num):\n",
    "    try:\n",
    "        float(num)\n",
    "        return True\n",
    "    except ValueError:\n",
    "        return False"
   ]
  },
  {
   "cell_type": "code",
   "execution_count": 28,
   "metadata": {},
   "outputs": [],
   "source": [
    "def compare_jsons(json1, json2):\n",
    "    def compare_dicts(d1, d2):\n",
    "        result = {}\n",
    "        all_keys = set(d1.keys()).union(d2.keys())\n",
    "        \n",
    "        for key in all_keys:\n",
    "            if key in d1 and key in d2:\n",
    "                # For same objects\n",
    "                if d1[key] == d2[key]:\n",
    "                    pass\n",
    "                # For numbers\n",
    "                elif isFloat(d1[key]):\n",
    "                    result[key] = round(abs(d1[key] - d2[key]), 1) \n",
    "                # For dates and alphabets\n",
    "                elif key == 'date' and isinstance(d1[key], str) and isinstance(d2[key], str):\n",
    "                    try:\n",
    "                        date1 = datetime.strptime(d1[key], \"%Y-%m-%d\")\n",
    "                        date2 = datetime.strptime(d2[key], \"%Y-%m-%d\")\n",
    "                        result[key] = abs((date1 - date2).days)\n",
    "                    except ValueError:\n",
    "                        result[key] = \"Date Format Error\"\n",
    "                elif d1[key].isalpha():\n",
    "                    if len(d1[key]) == 10 and \"-\" in d1[key]:\n",
    "                        date1 = int(d1[key].replace('-', ''))\n",
    "                        date2 = int(d2[key].replace('-', ''))\n",
    "                        result[key] = abs(date1 - date2)\n",
    "                    else:\n",
    "                        result[key] = \"Text Change\"\n",
    "            elif key in d1:\n",
    "                result[key] = \"Only in JSON1\"\n",
    "            else:\n",
    "                result[key] = \"Only in JSON2\"\n",
    "        \n",
    "        return result\n",
    "\n",
    "    return compare_dicts(json1, json2)"
   ]
  },
  {
   "cell_type": "code",
   "execution_count": 29,
   "metadata": {},
   "outputs": [
    {
     "name": "stdout",
     "output_type": "stream",
     "text": [
      "{'z': 'Only in JSON2', 'name': 'Text Change', 'x': 0.1}\n"
     ]
    }
   ],
   "source": [
    "json1 = {'x': 10.1, 'y': 20, 'name': 'Anu', 'dob': '2010-10-10'}\n",
    "json2 = {'x': 10, 'y': 20, 'name': 'Ani', 'dob': '2010-10-11', 'z': 100}\n",
    "json3 = compare_jsons(json1, json2)\n",
    "print(json3)"
   ]
  },
  {
   "cell_type": "code",
   "execution_count": 24,
   "metadata": {},
   "outputs": [
    {
     "name": "stdout",
     "output_type": "stream",
     "text": [
      "2010-10-10\n",
      "Anu\n"
     ]
    }
   ],
   "source": [
    "all_keys = set(json1.keys()).union(json2.keys())\n",
    "for key in all_keys:\n",
    "    if key in json1 and key in json2:\n",
    "        if isinstance(json1[key], str):\n",
    "            print(json1[key])"
   ]
  },
  {
   "cell_type": "code",
   "execution_count": 21,
   "metadata": {},
   "outputs": [
    {
     "name": "stdout",
     "output_type": "stream",
     "text": [
      "20101010\n"
     ]
    }
   ],
   "source": [
    "text = '2010-10-10'\n",
    "text = text.replace('-', '')\n",
    "print(text)"
   ]
  },
  {
   "cell_type": "code",
   "execution_count": null,
   "metadata": {},
   "outputs": [],
   "source": []
  }
 ],
 "metadata": {
  "kernelspec": {
   "display_name": "Python 3",
   "language": "python",
   "name": "python3"
  },
  "language_info": {
   "codemirror_mode": {
    "name": "ipython",
    "version": 3
   },
   "file_extension": ".py",
   "mimetype": "text/x-python",
   "name": "python",
   "nbconvert_exporter": "python",
   "pygments_lexer": "ipython3",
   "version": "3.12.4"
  }
 },
 "nbformat": 4,
 "nbformat_minor": 2
}
