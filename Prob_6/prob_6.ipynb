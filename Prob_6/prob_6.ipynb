{
 "cells": [
  {
   "cell_type": "code",
   "execution_count": 1,
   "metadata": {},
   "outputs": [],
   "source": [
    "import json"
   ]
  },
  {
   "cell_type": "code",
   "execution_count": 2,
   "metadata": {},
   "outputs": [],
   "source": [
    "def isFloat(num):\n",
    "    try:\n",
    "        float(num)\n",
    "        return True\n",
    "    except ValueError:\n",
    "        return False"
   ]
  },
  {
   "cell_type": "code",
   "execution_count": 3,
   "metadata": {},
   "outputs": [],
   "source": [
    "\n",
    "def compare_jsons(json1, json2):\n",
    "    def compare_dicts(d1, d2):\n",
    "        result = {}\n",
    "        all_keys = set(d1.keys()).union(d2.keys())\n",
    "        \n",
    "        for key in all_keys:\n",
    "            if key in d1 and key in d2:\n",
    "                # For same objects\n",
    "                if d1[key] == d2[key]:\n",
    "                    continue\n",
    "                # For numbers\n",
    "                elif isFloat(d1[key]) and isFloat(d2[key]):\n",
    "                    result[key] = round(abs(float(d1[key]) - float(d2[key])), 1)\n",
    "                # For dates\n",
    "                elif key == 'dob' and isinstance(d1[key], str):\n",
    "                    date1 = int(d1[key].replace('-', ''))\n",
    "                    date2 = int(d2[key].replace('-', ''))\n",
    "                    result[key] = abs(date1 - date2)\n",
    "                # For alphabets\n",
    "                elif isinstance(d1[key], str) and d1[key].isalpha():\n",
    "                    result[key] = \"Text Change\"\n",
    "            elif key in d1:\n",
    "                result[key] = \"Only in JSON1\"\n",
    "            else:\n",
    "                result[key] = \"Only in JSON2\"\n",
    "        \n",
    "        return result\n",
    "\n",
    "    return compare_dicts(json1, json2)"
   ]
  },
  {
   "cell_type": "code",
   "execution_count": 4,
   "metadata": {},
   "outputs": [],
   "source": [
    "def load_json_from_file(file_path):\n",
    "    with open(file_path, 'r') as f:\n",
    "        return json.load(f)"
   ]
  },
  {
   "cell_type": "code",
   "execution_count": 5,
   "metadata": {},
   "outputs": [],
   "source": [
    "def save_json_to_file(data, file_path):\n",
    "    with open(file_path, 'w') as f:\n",
    "        json.dump(data, f, indent=4)"
   ]
  },
  {
   "cell_type": "code",
   "execution_count": 6,
   "metadata": {},
   "outputs": [],
   "source": [
    "json1 = load_json_from_file('json1.json')\n",
    "json2 = load_json_from_file('json2.json')"
   ]
  },
  {
   "cell_type": "code",
   "execution_count": 7,
   "metadata": {},
   "outputs": [
    {
     "name": "stdout",
     "output_type": "stream",
     "text": [
      "{'x': 10.1, 'y': 20, 'name': 'Anu', 'dob': '2010-10-10'}\n",
      "{'x': 10, 'y': 20, 'name': 'Ani', 'dob': '2010-10-11', 'z': 100}\n"
     ]
    }
   ],
   "source": [
    "print(json1)\n",
    "print(json2)"
   ]
  },
  {
   "cell_type": "code",
   "execution_count": 8,
   "metadata": {},
   "outputs": [],
   "source": [
    "result = compare_jsons(json1, json2)"
   ]
  },
  {
   "cell_type": "code",
   "execution_count": 9,
   "metadata": {},
   "outputs": [
    {
     "name": "stdout",
     "output_type": "stream",
     "text": [
      "{'z': 'Only in JSON2', 'x': 0.1, 'dob': 1, 'name': 'Text Change'}\n"
     ]
    }
   ],
   "source": [
    "print(result)"
   ]
  },
  {
   "cell_type": "code",
   "execution_count": 10,
   "metadata": {},
   "outputs": [],
   "source": [
    "save_json_to_file(result, 'result.json')"
   ]
  }
 ],
 "metadata": {
  "kernelspec": {
   "display_name": "Python 3",
   "language": "python",
   "name": "python3"
  },
  "language_info": {
   "codemirror_mode": {
    "name": "ipython",
    "version": 3
   },
   "file_extension": ".py",
   "mimetype": "text/x-python",
   "name": "python",
   "nbconvert_exporter": "python",
   "pygments_lexer": "ipython3",
   "version": "3.12.4"
  }
 },
 "nbformat": 4,
 "nbformat_minor": 2
}
