{
 "cells": [
  {
   "cell_type": "code",
   "execution_count": 1,
   "metadata": {},
   "outputs": [],
   "source": [
    "def find_notes(amount):\n",
    "    available_notes = [2000, 500, 200, 100, 50, 20, 10, 5, 2, 1]\n",
    "    counts = [0] * len(available_notes)\n",
    "    \n",
    "    for i, note in enumerate(available_notes):\n",
    "        counts[i] = amount // note\n",
    "        amount %= note\n",
    "        \n",
    "    return available_notes, counts"
   ]
  },
  {
   "cell_type": "code",
   "execution_count": 2,
   "metadata": {},
   "outputs": [],
   "source": [
    "def print_result(amount):\n",
    "    available_notes, change = find_notes(amount)\n",
    "    \n",
    "    print(\"Notes |\" + \"|\".join(map(str, available_notes)) + \"|\")\n",
    "    print(\"Count |\" + \"|\".join(map(str, change)) + \"|\")"
   ]
  },
  {
   "cell_type": "code",
   "execution_count": 3,
   "metadata": {},
   "outputs": [
    {
     "name": "stdout",
     "output_type": "stream",
     "text": [
      "Notes |2000|500|200|100|50|20|10|5|2|1|\n",
      "Count |0|2|1|1|0|1|1|1|2|0|\n"
     ]
    }
   ],
   "source": [
    "print_result(1339)"
   ]
  }
 ],
 "metadata": {
  "kernelspec": {
   "display_name": "Python 3",
   "language": "python",
   "name": "python3"
  },
  "language_info": {
   "codemirror_mode": {
    "name": "ipython",
    "version": 3
   },
   "file_extension": ".py",
   "mimetype": "text/x-python",
   "name": "python",
   "nbconvert_exporter": "python",
   "pygments_lexer": "ipython3",
   "version": "3.12.4"
  }
 },
 "nbformat": 4,
 "nbformat_minor": 2
}
