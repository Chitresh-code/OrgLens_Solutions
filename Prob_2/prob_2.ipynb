{
 "cells": [
  {
   "cell_type": "code",
   "execution_count": 1,
   "metadata": {},
   "outputs": [],
   "source": [
    "def set_two_most_significant_bits(n):\n",
    "    bit_length = n.bit_length()\n",
    "    \n",
    "    if bit_length < 2:\n",
    "        return n, bin(n)\n",
    "    \n",
    "    mask = (1 << bit_length) | (1 << (bit_length - 1))\n",
    "    result = n | mask\n",
    "\n",
    "    return result, bin(result)"
   ]
  },
  {
   "cell_type": "code",
   "execution_count": 2,
   "metadata": {},
   "outputs": [
    {
     "name": "stdout",
     "output_type": "stream",
     "text": [
      "Decimal: 28\n",
      "Binary: 0b11100\n"
     ]
    }
   ],
   "source": [
    "number = int(input(\"Enter a number: \"))\n",
    "result_decimal, result_binary = set_two_most_significant_bits(number)\n",
    "print(f\"Decimal: {result_decimal}\")\n",
    "print(f\"Binary: {result_binary}\")"
   ]
  }
 ],
 "metadata": {
  "kernelspec": {
   "display_name": "Python 3",
   "language": "python",
   "name": "python3"
  },
  "language_info": {
   "codemirror_mode": {
    "name": "ipython",
    "version": 3
   },
   "file_extension": ".py",
   "mimetype": "text/x-python",
   "name": "python",
   "nbconvert_exporter": "python",
   "pygments_lexer": "ipython3",
   "version": "3.12.4"
  }
 },
 "nbformat": 4,
 "nbformat_minor": 2
}
